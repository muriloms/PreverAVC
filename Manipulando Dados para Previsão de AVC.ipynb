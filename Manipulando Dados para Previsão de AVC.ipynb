{
 "cells": [
  {
   "cell_type": "markdown",
   "metadata": {},
   "source": [
    "# Manipular dados para a previsão de AVC"
   ]
  },
  {
   "cell_type": "markdown",
   "metadata": {},
   "source": [
    "---"
   ]
  },
  {
   "cell_type": "markdown",
   "metadata": {},
   "source": [
    "### Informações\n",
    "Este projeto tem como objetivo analisar e manipular dados de pacientes e desenvolver modelo de aprendizado de máquina para prever o evento de AVC em novos pacientes.\n",
    "\n",
    "O arquivo está organizado conforme etapas de um projeto de ciência de dados e desenvolvimento de modelos de aprendizado de máquina.\n",
    "\n",
    "O projeto tem como base o estudo de caso do curso Formação Inteligência Artificial Aplicada a Medicia da Data Science Academy.\n"
   ]
  },
  {
   "cell_type": "markdown",
   "metadata": {},
   "source": [
    "## Carregar pacotes"
   ]
  },
  {
   "cell_type": "code",
   "execution_count": 85,
   "metadata": {},
   "outputs": [],
   "source": [
    "# Info do sistema\n",
    "import os\n",
    "\n",
    "# Manipular dados e computação científica\n",
    "import pandas as pd\n",
    "import numpy as np\n",
    "\n",
    "# Salvar arquivos\n",
    "import pickle\n",
    "\n",
    "# métricas para avaliação dos modelos\n",
    "from sklearn.metrics import roc_auc_score, accuracy_score, precision_score, recall_score, roc_curve\n",
    "\n",
    "# Dividir dados treino e teste\n",
    "from sklearn.model_selection import train_test_split\n",
    "\n",
    "# Modelos\n",
    "from sklearn.linear_model import LogisticRegression\n",
    "from sklearn.naive_bayes import GaussianNB\n",
    "from xgboost import XGBClassifier\n",
    "import xgboost as xgb\n",
    "from sklearn.ensemble import RandomForestClassifier\n",
    "\n",
    "# Visualização\n",
    "import seaborn as sns\n",
    "import matplotlib.pyplot as plt\n",
    "%matplotlib inline\n",
    "sns.set(style = \"whitegrid\")\n",
    "\n",
    "# não mostrar avisos\n",
    "import warnings\n",
    "warnings.filterwarnings('ignore')"
   ]
  },
  {
   "cell_type": "markdown",
   "metadata": {},
   "source": [
    "# ------------------------------ Etapa 1 ------------------------------ "
   ]
  },
  {
   "cell_type": "markdown",
   "metadata": {},
   "source": [
    "### Informações sobre o problema\n",
    "O Acidente Vascular Cerebral (AVC) acontece quando vasos que levam sangue ao cérebro entopem ou se rompem, provocando a paralisia da área cerebral que ficou sem circulação sanguínea. É uma doença que acomete mais os homens e é uma das principais causas de morte, incapacitação e internações em todo o mundo.\n",
    "\n",
    "Quanto mais rápido for o diagnóstico e o tratamento do AVC, maiores serão as chances de recuperação completa. Desta forma, torna-se primordial ficar atento aos sinais e sintomas e procurar atendimento médico imediato.\n",
    "\n",
    "Existem dois tipos de AVC, que ocorrem por motivos diferentes: AVC hemorrágico e AVC isquêmico.\n",
    "\n",
    "Existem diversos fatores que aumentam a probabilidade de ocorrência de um AVC, seja ele hemorrágico ou isquêmico. Os principais fatores causais das doenças são:\n",
    "\n",
    "- Hipertensão;\n",
    "- Diabetes tipo 2;\n",
    "- Colesterol alto;\n",
    "- Sobrepeso;\n",
    "- Obesidade;\n",
    "- Tabagismo;\n",
    "- Uso excessivo de álcool;\n",
    "- Idade avançada;\n",
    "- Sedentarismo;\n",
    "- Uso de drogas ilícitas;\n",
    "- Histórico familiar;\n",
    "- Ser do sexo masculino.\n",
    "\n",
    "O AVC está altamente relacionado à idade, hipertensão, nível médio de glicose, status de tabagismo e IMC, enquanto isso depende parcialmente do sexo, doença cardíaca, tipo de trabalho e tipo de residência.\n",
    "\n",
    "\n",
    "### Objetivo\n",
    "Prever a ocorrência de AVC.\n",
    "\n",
    "\n",
    "### Métodos\n",
    "Métodos de classificação binária para prever a ocorrência de AVC.\n",
    "\n",
    "\n",
    "#### Métrica\n",
    "AUC Score (Area Under The Curve Score), cujo valor vai de 1 a 100% e para esse problema o valor da métrica deve ser aproximadamente de 99%, uma vez que a previsão do modelo está relacionada a casos de vida ou morte."
   ]
  },
  {
   "cell_type": "markdown",
   "metadata": {},
   "source": [
    "# ------------------------------ Etapa 2 ------------------------------ \n",
    "## Compreensão dos dados"
   ]
  },
  {
   "cell_type": "code",
   "execution_count": 2,
   "metadata": {},
   "outputs": [],
   "source": [
    "# Definir diretório dos dados\n",
    "#print(os.getcwd())"
   ]
  },
  {
   "cell_type": "code",
   "execution_count": 3,
   "metadata": {},
   "outputs": [],
   "source": [
    "path = '..\\_dados\\PrevendoAVC'\n",
    "os.chdir(path)"
   ]
  },
  {
   "cell_type": "code",
   "execution_count": 4,
   "metadata": {},
   "outputs": [],
   "source": [
    "# Carregar dados\n",
    "df = pd.read_csv('dataset_avc.csv')"
   ]
  },
  {
   "cell_type": "code",
   "execution_count": 5,
   "metadata": {},
   "outputs": [
    {
     "name": "stdout",
     "output_type": "stream",
     "text": [
      "Dimensões do dataset \n",
      " Número de observações (linhas): 43400 \n",
      " Número de variáveis (colunas):  12\n"
     ]
    },
    {
     "data": {
      "text/html": [
       "<div>\n",
       "<style scoped>\n",
       "    .dataframe tbody tr th:only-of-type {\n",
       "        vertical-align: middle;\n",
       "    }\n",
       "\n",
       "    .dataframe tbody tr th {\n",
       "        vertical-align: top;\n",
       "    }\n",
       "\n",
       "    .dataframe thead th {\n",
       "        text-align: right;\n",
       "    }\n",
       "</style>\n",
       "<table border=\"1\" class=\"dataframe\">\n",
       "  <thead>\n",
       "    <tr style=\"text-align: right;\">\n",
       "      <th></th>\n",
       "      <th>id</th>\n",
       "      <th>sexo</th>\n",
       "      <th>idade</th>\n",
       "      <th>hipertensao</th>\n",
       "      <th>doenca_coracao</th>\n",
       "      <th>casado</th>\n",
       "      <th>tipo_trabalho</th>\n",
       "      <th>tipo_residencia</th>\n",
       "      <th>media_nivel_glicose</th>\n",
       "      <th>imc</th>\n",
       "      <th>status_tabagismo</th>\n",
       "      <th>avc</th>\n",
       "    </tr>\n",
       "  </thead>\n",
       "  <tbody>\n",
       "    <tr>\n",
       "      <th>0</th>\n",
       "      <td>30669</td>\n",
       "      <td>Masculino</td>\n",
       "      <td>3.0</td>\n",
       "      <td>0</td>\n",
       "      <td>0</td>\n",
       "      <td>No</td>\n",
       "      <td>crianca</td>\n",
       "      <td>Rural</td>\n",
       "      <td>95.12</td>\n",
       "      <td>18.0</td>\n",
       "      <td>NaN</td>\n",
       "      <td>0</td>\n",
       "    </tr>\n",
       "    <tr>\n",
       "      <th>1</th>\n",
       "      <td>30468</td>\n",
       "      <td>Masculino</td>\n",
       "      <td>58.0</td>\n",
       "      <td>1</td>\n",
       "      <td>0</td>\n",
       "      <td>Yes</td>\n",
       "      <td>Privado</td>\n",
       "      <td>Urbana</td>\n",
       "      <td>87.96</td>\n",
       "      <td>39.2</td>\n",
       "      <td>nunca fumou</td>\n",
       "      <td>0</td>\n",
       "    </tr>\n",
       "    <tr>\n",
       "      <th>2</th>\n",
       "      <td>16523</td>\n",
       "      <td>Feminino</td>\n",
       "      <td>8.0</td>\n",
       "      <td>0</td>\n",
       "      <td>0</td>\n",
       "      <td>No</td>\n",
       "      <td>Privado</td>\n",
       "      <td>Urbana</td>\n",
       "      <td>110.89</td>\n",
       "      <td>17.6</td>\n",
       "      <td>NaN</td>\n",
       "      <td>0</td>\n",
       "    </tr>\n",
       "    <tr>\n",
       "      <th>3</th>\n",
       "      <td>56543</td>\n",
       "      <td>Feminino</td>\n",
       "      <td>70.0</td>\n",
       "      <td>0</td>\n",
       "      <td>0</td>\n",
       "      <td>Yes</td>\n",
       "      <td>Privado</td>\n",
       "      <td>Rural</td>\n",
       "      <td>69.04</td>\n",
       "      <td>35.9</td>\n",
       "      <td>fuma eventualmente</td>\n",
       "      <td>0</td>\n",
       "    </tr>\n",
       "    <tr>\n",
       "      <th>4</th>\n",
       "      <td>46136</td>\n",
       "      <td>Masculino</td>\n",
       "      <td>14.0</td>\n",
       "      <td>0</td>\n",
       "      <td>0</td>\n",
       "      <td>No</td>\n",
       "      <td>Nunca_trabalhou</td>\n",
       "      <td>Rural</td>\n",
       "      <td>161.28</td>\n",
       "      <td>19.1</td>\n",
       "      <td>NaN</td>\n",
       "      <td>0</td>\n",
       "    </tr>\n",
       "  </tbody>\n",
       "</table>\n",
       "</div>"
      ],
      "text/plain": [
       "      id       sexo  idade  hipertensao  doenca_coracao casado  \\\n",
       "0  30669  Masculino    3.0            0               0     No   \n",
       "1  30468  Masculino   58.0            1               0    Yes   \n",
       "2  16523   Feminino    8.0            0               0     No   \n",
       "3  56543   Feminino   70.0            0               0    Yes   \n",
       "4  46136  Masculino   14.0            0               0     No   \n",
       "\n",
       "     tipo_trabalho tipo_residencia  media_nivel_glicose   imc  \\\n",
       "0          crianca           Rural                95.12  18.0   \n",
       "1          Privado          Urbana                87.96  39.2   \n",
       "2          Privado          Urbana               110.89  17.6   \n",
       "3          Privado           Rural                69.04  35.9   \n",
       "4  Nunca_trabalhou           Rural               161.28  19.1   \n",
       "\n",
       "     status_tabagismo  avc  \n",
       "0                 NaN    0  \n",
       "1         nunca fumou    0  \n",
       "2                 NaN    0  \n",
       "3  fuma eventualmente    0  \n",
       "4                 NaN    0  "
      ]
     },
     "execution_count": 5,
     "metadata": {},
     "output_type": "execute_result"
    }
   ],
   "source": [
    "# Visualizar informações básicas\n",
    "print(\"Dimensões do dataset \\n\", \n",
    "      \"Número de observações (linhas):\", \n",
    "      df.shape[0], \n",
    "      \"\\n Número de variáveis (colunas): \",\n",
    "      df.shape[1])\n",
    "df.head()"
   ]
  },
  {
   "cell_type": "markdown",
   "metadata": {},
   "source": [
    "Variável target encontra-se na última coluna: 'avc'"
   ]
  },
  {
   "cell_type": "code",
   "execution_count": 6,
   "metadata": {},
   "outputs": [
    {
     "data": {
      "text/plain": [
       "0    42617\n",
       "1      783\n",
       "Name: avc, dtype: int64"
      ]
     },
     "execution_count": 6,
     "metadata": {},
     "output_type": "execute_result"
    }
   ],
   "source": [
    "# Valores em cada classe da variável target\n",
    "df['avc'].value_counts()"
   ]
  },
  {
   "cell_type": "markdown",
   "metadata": {},
   "source": [
    "0: sem AVC | 1: com AVC"
   ]
  },
  {
   "cell_type": "code",
   "execution_count": 7,
   "metadata": {},
   "outputs": [
    {
     "data": {
      "text/plain": [
       "id                       int64\n",
       "sexo                    object\n",
       "idade                  float64\n",
       "hipertensao              int64\n",
       "doenca_coracao           int64\n",
       "casado                  object\n",
       "tipo_trabalho           object\n",
       "tipo_residencia         object\n",
       "media_nivel_glicose    float64\n",
       "imc                    float64\n",
       "status_tabagismo        object\n",
       "avc                      int64\n",
       "dtype: object"
      ]
     },
     "execution_count": 7,
     "metadata": {},
     "output_type": "execute_result"
    }
   ],
   "source": [
    "# Tipos de dados\n",
    "df.dtypes"
   ]
  },
  {
   "cell_type": "markdown",
   "metadata": {},
   "source": [
    "# ------------------------------ Etapa 3 ------------------------------ \n",
    "## Preparação dos dados"
   ]
  },
  {
   "cell_type": "markdown",
   "metadata": {},
   "source": [
    "### Identificar e remover colunas irrelevantes"
   ]
  },
  {
   "cell_type": "code",
   "execution_count": 8,
   "metadata": {},
   "outputs": [],
   "source": [
    "del df['id'], df['casado']"
   ]
  },
  {
   "cell_type": "code",
   "execution_count": 9,
   "metadata": {},
   "outputs": [
    {
     "data": {
      "text/html": [
       "<div>\n",
       "<style scoped>\n",
       "    .dataframe tbody tr th:only-of-type {\n",
       "        vertical-align: middle;\n",
       "    }\n",
       "\n",
       "    .dataframe tbody tr th {\n",
       "        vertical-align: top;\n",
       "    }\n",
       "\n",
       "    .dataframe thead th {\n",
       "        text-align: right;\n",
       "    }\n",
       "</style>\n",
       "<table border=\"1\" class=\"dataframe\">\n",
       "  <thead>\n",
       "    <tr style=\"text-align: right;\">\n",
       "      <th></th>\n",
       "      <th>idade</th>\n",
       "      <th>hipertensao</th>\n",
       "      <th>doenca_coracao</th>\n",
       "      <th>media_nivel_glicose</th>\n",
       "      <th>imc</th>\n",
       "      <th>avc</th>\n",
       "    </tr>\n",
       "  </thead>\n",
       "  <tbody>\n",
       "    <tr>\n",
       "      <th>count</th>\n",
       "      <td>43400.000000</td>\n",
       "      <td>43400.000000</td>\n",
       "      <td>43400.000000</td>\n",
       "      <td>43400.000000</td>\n",
       "      <td>41938.000000</td>\n",
       "      <td>43400.000000</td>\n",
       "    </tr>\n",
       "    <tr>\n",
       "      <th>mean</th>\n",
       "      <td>42.217894</td>\n",
       "      <td>0.093571</td>\n",
       "      <td>0.047512</td>\n",
       "      <td>104.482750</td>\n",
       "      <td>28.605038</td>\n",
       "      <td>0.018041</td>\n",
       "    </tr>\n",
       "    <tr>\n",
       "      <th>std</th>\n",
       "      <td>22.519649</td>\n",
       "      <td>0.291235</td>\n",
       "      <td>0.212733</td>\n",
       "      <td>43.111751</td>\n",
       "      <td>7.770020</td>\n",
       "      <td>0.133103</td>\n",
       "    </tr>\n",
       "    <tr>\n",
       "      <th>min</th>\n",
       "      <td>0.080000</td>\n",
       "      <td>0.000000</td>\n",
       "      <td>0.000000</td>\n",
       "      <td>55.000000</td>\n",
       "      <td>10.100000</td>\n",
       "      <td>0.000000</td>\n",
       "    </tr>\n",
       "    <tr>\n",
       "      <th>25%</th>\n",
       "      <td>24.000000</td>\n",
       "      <td>0.000000</td>\n",
       "      <td>0.000000</td>\n",
       "      <td>77.540000</td>\n",
       "      <td>23.200000</td>\n",
       "      <td>0.000000</td>\n",
       "    </tr>\n",
       "    <tr>\n",
       "      <th>50%</th>\n",
       "      <td>44.000000</td>\n",
       "      <td>0.000000</td>\n",
       "      <td>0.000000</td>\n",
       "      <td>91.580000</td>\n",
       "      <td>27.700000</td>\n",
       "      <td>0.000000</td>\n",
       "    </tr>\n",
       "    <tr>\n",
       "      <th>75%</th>\n",
       "      <td>60.000000</td>\n",
       "      <td>0.000000</td>\n",
       "      <td>0.000000</td>\n",
       "      <td>112.070000</td>\n",
       "      <td>32.900000</td>\n",
       "      <td>0.000000</td>\n",
       "    </tr>\n",
       "    <tr>\n",
       "      <th>max</th>\n",
       "      <td>82.000000</td>\n",
       "      <td>1.000000</td>\n",
       "      <td>1.000000</td>\n",
       "      <td>291.050000</td>\n",
       "      <td>97.600000</td>\n",
       "      <td>1.000000</td>\n",
       "    </tr>\n",
       "  </tbody>\n",
       "</table>\n",
       "</div>"
      ],
      "text/plain": [
       "              idade   hipertensao  doenca_coracao  media_nivel_glicose  \\\n",
       "count  43400.000000  43400.000000    43400.000000         43400.000000   \n",
       "mean      42.217894      0.093571        0.047512           104.482750   \n",
       "std       22.519649      0.291235        0.212733            43.111751   \n",
       "min        0.080000      0.000000        0.000000            55.000000   \n",
       "25%       24.000000      0.000000        0.000000            77.540000   \n",
       "50%       44.000000      0.000000        0.000000            91.580000   \n",
       "75%       60.000000      0.000000        0.000000           112.070000   \n",
       "max       82.000000      1.000000        1.000000           291.050000   \n",
       "\n",
       "                imc           avc  \n",
       "count  41938.000000  43400.000000  \n",
       "mean      28.605038      0.018041  \n",
       "std        7.770020      0.133103  \n",
       "min       10.100000      0.000000  \n",
       "25%       23.200000      0.000000  \n",
       "50%       27.700000      0.000000  \n",
       "75%       32.900000      0.000000  \n",
       "max       97.600000      1.000000  "
      ]
     },
     "execution_count": 9,
     "metadata": {},
     "output_type": "execute_result"
    }
   ],
   "source": [
    "df.describe()"
   ]
  },
  {
   "cell_type": "code",
   "execution_count": 10,
   "metadata": {},
   "outputs": [],
   "source": [
    "# Extrair variáveis do tipo categóricas\n",
    "df_cat_name = df.dtypes[df.dtypes == 'object'].index\n",
    "\n",
    "# Extrair variáveis do tipo contínuas\n",
    "df_con_name = [i for i in list(df.columns) if i not in list(df_cat_name)]"
   ]
  },
  {
   "cell_type": "code",
   "execution_count": 11,
   "metadata": {},
   "outputs": [
    {
     "data": {
      "text/html": [
       "<div>\n",
       "<style scoped>\n",
       "    .dataframe tbody tr th:only-of-type {\n",
       "        vertical-align: middle;\n",
       "    }\n",
       "\n",
       "    .dataframe tbody tr th {\n",
       "        vertical-align: top;\n",
       "    }\n",
       "\n",
       "    .dataframe thead th {\n",
       "        text-align: right;\n",
       "    }\n",
       "</style>\n",
       "<table border=\"1\" class=\"dataframe\">\n",
       "  <thead>\n",
       "    <tr style=\"text-align: right;\">\n",
       "      <th></th>\n",
       "      <th>sexo</th>\n",
       "      <th>tipo_trabalho</th>\n",
       "      <th>tipo_residencia</th>\n",
       "      <th>status_tabagismo</th>\n",
       "    </tr>\n",
       "  </thead>\n",
       "  <tbody>\n",
       "    <tr>\n",
       "      <th>count</th>\n",
       "      <td>43400</td>\n",
       "      <td>43400</td>\n",
       "      <td>43400</td>\n",
       "      <td>30108</td>\n",
       "    </tr>\n",
       "    <tr>\n",
       "      <th>unique</th>\n",
       "      <td>3</td>\n",
       "      <td>5</td>\n",
       "      <td>2</td>\n",
       "      <td>3</td>\n",
       "    </tr>\n",
       "    <tr>\n",
       "      <th>top</th>\n",
       "      <td>Feminino</td>\n",
       "      <td>Privado</td>\n",
       "      <td>Urbana</td>\n",
       "      <td>nunca fumou</td>\n",
       "    </tr>\n",
       "    <tr>\n",
       "      <th>freq</th>\n",
       "      <td>25665</td>\n",
       "      <td>24834</td>\n",
       "      <td>21756</td>\n",
       "      <td>16053</td>\n",
       "    </tr>\n",
       "  </tbody>\n",
       "</table>\n",
       "</div>"
      ],
      "text/plain": [
       "            sexo tipo_trabalho tipo_residencia status_tabagismo\n",
       "count      43400         43400           43400            30108\n",
       "unique         3             5               2                3\n",
       "top     Feminino       Privado          Urbana      nunca fumou\n",
       "freq       25665         24834           21756            16053"
      ]
     },
     "execution_count": 11,
     "metadata": {},
     "output_type": "execute_result"
    }
   ],
   "source": [
    "# Visualizar variáveis categóricas\n",
    "df[df_cat_name].describe()"
   ]
  },
  {
   "cell_type": "markdown",
   "metadata": {},
   "source": [
    "### Tratar valores missing na variável contínua IMC"
   ]
  },
  {
   "cell_type": "code",
   "execution_count": 12,
   "metadata": {},
   "outputs": [
    {
     "name": "stdout",
     "output_type": "stream",
     "text": [
      "Número total de valores missing:  1462\n"
     ]
    },
    {
     "data": {
      "text/plain": [
       "count    41938.000000\n",
       "mean        28.605038\n",
       "std          7.770020\n",
       "min         10.100000\n",
       "25%         23.200000\n",
       "50%         27.700000\n",
       "75%         32.900000\n",
       "max         97.600000\n",
       "Name: imc, dtype: float64"
      ]
     },
     "execution_count": 12,
     "metadata": {},
     "output_type": "execute_result"
    }
   ],
   "source": [
    "print('Número total de valores missing: ',df['imc'].isnull().sum())\n",
    "df['imc'].describe()"
   ]
  },
  {
   "cell_type": "markdown",
   "metadata": {},
   "source": [
    "#### Maneiras de tratar valores missing:\n",
    "- remover linhas\n",
    "- inputar zero, valore centrais ou estatisticamente estimados no lugar dos valores missing"
   ]
  },
  {
   "cell_type": "code",
   "execution_count": 13,
   "metadata": {},
   "outputs": [
    {
     "data": {
      "text/plain": [
       "array([[<matplotlib.axes._subplots.AxesSubplot object at 0x000001E4CCF4A9B0>]],\n",
       "      dtype=object)"
      ]
     },
     "execution_count": 13,
     "metadata": {},
     "output_type": "execute_result"
    },
    {
     "data": {
      "image/png": "[encoded data removed]",
      "text/plain": [
       "<Figure size 720x288 with 1 Axes>"
      ]
     },
     "metadata": {
      "needs_background": "light"
     },
     "output_type": "display_data"
    }
   ],
   "source": [
    "# Verificar distribuição\n",
    "df.hist(column='imc', figsize=(10,4), bins=30)"
   ]
  },
  {
   "cell_type": "markdown",
   "metadata": {},
   "source": [
    "O valor de IMC entre 20 e 40 é o mais comum, portanto, não é totalmente irracional utilizá-lo no lugar de valores missing.\n",
    "\n",
    "Inputar a tendência central (média) no lugar dos valores missing."
   ]
  },
  {
   "cell_type": "code",
   "execution_count": 14,
   "metadata": {},
   "outputs": [
    {
     "data": {
      "text/plain": [
       "array([18. , 39.2, 17.6, ..., 28.9, 33.2, 20.6])"
      ]
     },
     "execution_count": 14,
     "metadata": {},
     "output_type": "execute_result"
    }
   ],
   "source": [
    "# Onde for nulo, preenche com a média, senão, mantemos o valor atual.\n",
    "imc = np.where(df['imc'].isnull(), df['imc'].mean(), df['imc'])\n",
    "imc"
   ]
  },
  {
   "cell_type": "code",
   "execution_count": 15,
   "metadata": {},
   "outputs": [],
   "source": [
    "df['imc'] = imc"
   ]
  },
  {
   "cell_type": "code",
   "execution_count": 16,
   "metadata": {},
   "outputs": [
    {
     "name": "stdout",
     "output_type": "stream",
     "text": [
      "Número total de valores missing:  0\n",
      "count    43400.000000\n",
      "mean        28.605038\n",
      "std          7.638023\n",
      "min         10.100000\n",
      "25%         23.400000\n",
      "50%         28.100000\n",
      "75%         32.600000\n",
      "max         97.600000\n",
      "Name: imc, dtype: float64\n"
     ]
    },
    {
     "data": {
      "text/plain": [
       "array([[<matplotlib.axes._subplots.AxesSubplot object at 0x000001E4CD15EBE0>]],\n",
       "      dtype=object)"
      ]
     },
     "execution_count": 16,
     "metadata": {},
     "output_type": "execute_result"
    },
    {
     "data": {
      "image/png": "[encoded data removed]",
      "text/plain": [
       "<Figure size 720x288 with 1 Axes>"
      ]
     },
     "metadata": {
      "needs_background": "light"
     },
     "output_type": "display_data"
    }
   ],
   "source": [
    "# Verificar novamente valores missing \n",
    "print('Número total de valores missing: ',df['imc'].isnull().sum())\n",
    "print(df['imc'].describe())\n",
    "df.hist(column='imc', figsize=(10,4), bins=30)"
   ]
  },
  {
   "cell_type": "markdown",
   "metadata": {},
   "source": [
    "### Tratar valores missing na variável categórica Status de Tabagismo"
   ]
  },
  {
   "cell_type": "code",
   "execution_count": 21,
   "metadata": {},
   "outputs": [
    {
     "name": "stdout",
     "output_type": "stream",
     "text": [
      "Número total de valores missing:  13292\n",
      "count           30108\n",
      "unique              3\n",
      "top       nunca fumou\n",
      "freq            16053\n",
      "Name: status_tabagismo, dtype: object\n"
     ]
    },
    {
     "data": {
      "text/plain": [
       "<matplotlib.axes._subplots.AxesSubplot at 0x1e4cd2d5a20>"
      ]
     },
     "execution_count": 21,
     "metadata": {},
     "output_type": "execute_result"
    },
    {
     "data": {
      "image/png": "[encoded data removed]",
      "text/plain": [
       "<Figure size 432x288 with 1 Axes>"
      ]
     },
     "metadata": {
      "needs_background": "light"
     },
     "output_type": "display_data"
    }
   ],
   "source": [
    "print('Número total de valores missing: ',df['status_tabagismo'].isnull().sum())\n",
    "print(df['status_tabagismo'].describe())\n",
    "df['status_tabagismo'].value_counts().plot(kind='bar')"
   ]
  },
  {
   "cell_type": "markdown",
   "metadata": {},
   "source": [
    "Preencher os valores missing com uma nova categoria: \"desconhecido\"."
   ]
  },
  {
   "cell_type": "code",
   "execution_count": 22,
   "metadata": {},
   "outputs": [],
   "source": [
    "status_tab_desconhecido = np.where(df['status_tabagismo'].isnull(), \"desconhecido\", df['status_tabagismo'])\n",
    "df['status_tabagismo'] = status_tab_desconhecido"
   ]
  },
  {
   "cell_type": "code",
   "execution_count": 23,
   "metadata": {},
   "outputs": [
    {
     "name": "stdout",
     "output_type": "stream",
     "text": [
      "Número total de valores missing:  0\n",
      "count           43400\n",
      "unique              4\n",
      "top       nunca fumou\n",
      "freq            16053\n",
      "Name: status_tabagismo, dtype: object\n"
     ]
    },
    {
     "data": {
      "text/plain": [
       "<matplotlib.axes._subplots.AxesSubplot at 0x1e4cd29a940>"
      ]
     },
     "execution_count": 23,
     "metadata": {},
     "output_type": "execute_result"
    },
    {
     "data": {
      "image/png": "[encoded data removed]",
      "text/plain": [
       "<Figure size 432x288 with 1 Axes>"
      ]
     },
     "metadata": {
      "needs_background": "light"
     },
     "output_type": "display_data"
    }
   ],
   "source": [
    "print('Número total de valores missing: ',df['status_tabagismo'].isnull().sum())\n",
    "print(df['status_tabagismo'].describe())\n",
    "df['status_tabagismo'].value_counts().plot(kind='bar')"
   ]
  },
  {
   "cell_type": "code",
   "execution_count": 24,
   "metadata": {},
   "outputs": [
    {
     "data": {
      "text/plain": [
       "sexo                   43400\n",
       "idade                  43400\n",
       "hipertensao            43400\n",
       "doenca_coracao         43400\n",
       "tipo_trabalho          43400\n",
       "tipo_residencia        43400\n",
       "media_nivel_glicose    43400\n",
       "imc                    43400\n",
       "status_tabagismo       43400\n",
       "avc                    43400\n",
       "dtype: int64"
      ]
     },
     "execution_count": 24,
     "metadata": {},
     "output_type": "execute_result"
    }
   ],
   "source": [
    "# Verificar se há mais valores missing em outras variáveis\n",
    "df.count()"
   ]
  },
  {
   "cell_type": "markdown",
   "metadata": {},
   "source": [
    "### Tratar outliers"
   ]
  },
  {
   "cell_type": "code",
   "execution_count": 25,
   "metadata": {},
   "outputs": [
    {
     "data": {
      "text/html": [
       "<div>\n",
       "<style scoped>\n",
       "    .dataframe tbody tr th:only-of-type {\n",
       "        vertical-align: middle;\n",
       "    }\n",
       "\n",
       "    .dataframe tbody tr th {\n",
       "        vertical-align: top;\n",
       "    }\n",
       "\n",
       "    .dataframe thead th {\n",
       "        text-align: right;\n",
       "    }\n",
       "</style>\n",
       "<table border=\"1\" class=\"dataframe\">\n",
       "  <thead>\n",
       "    <tr style=\"text-align: right;\">\n",
       "      <th></th>\n",
       "      <th>idade</th>\n",
       "      <th>hipertensao</th>\n",
       "      <th>doenca_coracao</th>\n",
       "      <th>media_nivel_glicose</th>\n",
       "      <th>imc</th>\n",
       "      <th>avc</th>\n",
       "    </tr>\n",
       "  </thead>\n",
       "  <tbody>\n",
       "    <tr>\n",
       "      <th>count</th>\n",
       "      <td>43400.000000</td>\n",
       "      <td>43400.000000</td>\n",
       "      <td>43400.000000</td>\n",
       "      <td>43400.000000</td>\n",
       "      <td>43400.000000</td>\n",
       "      <td>43400.000000</td>\n",
       "    </tr>\n",
       "    <tr>\n",
       "      <th>mean</th>\n",
       "      <td>42.217894</td>\n",
       "      <td>0.093571</td>\n",
       "      <td>0.047512</td>\n",
       "      <td>104.482750</td>\n",
       "      <td>28.605038</td>\n",
       "      <td>0.018041</td>\n",
       "    </tr>\n",
       "    <tr>\n",
       "      <th>std</th>\n",
       "      <td>22.519649</td>\n",
       "      <td>0.291235</td>\n",
       "      <td>0.212733</td>\n",
       "      <td>43.111751</td>\n",
       "      <td>7.638023</td>\n",
       "      <td>0.133103</td>\n",
       "    </tr>\n",
       "    <tr>\n",
       "      <th>min</th>\n",
       "      <td>0.080000</td>\n",
       "      <td>0.000000</td>\n",
       "      <td>0.000000</td>\n",
       "      <td>55.000000</td>\n",
       "      <td>10.100000</td>\n",
       "      <td>0.000000</td>\n",
       "    </tr>\n",
       "    <tr>\n",
       "      <th>25%</th>\n",
       "      <td>24.000000</td>\n",
       "      <td>0.000000</td>\n",
       "      <td>0.000000</td>\n",
       "      <td>77.540000</td>\n",
       "      <td>23.400000</td>\n",
       "      <td>0.000000</td>\n",
       "    </tr>\n",
       "    <tr>\n",
       "      <th>50%</th>\n",
       "      <td>44.000000</td>\n",
       "      <td>0.000000</td>\n",
       "      <td>0.000000</td>\n",
       "      <td>91.580000</td>\n",
       "      <td>28.100000</td>\n",
       "      <td>0.000000</td>\n",
       "    </tr>\n",
       "    <tr>\n",
       "      <th>75%</th>\n",
       "      <td>60.000000</td>\n",
       "      <td>0.000000</td>\n",
       "      <td>0.000000</td>\n",
       "      <td>112.070000</td>\n",
       "      <td>32.600000</td>\n",
       "      <td>0.000000</td>\n",
       "    </tr>\n",
       "    <tr>\n",
       "      <th>max</th>\n",
       "      <td>82.000000</td>\n",
       "      <td>1.000000</td>\n",
       "      <td>1.000000</td>\n",
       "      <td>291.050000</td>\n",
       "      <td>97.600000</td>\n",
       "      <td>1.000000</td>\n",
       "    </tr>\n",
       "  </tbody>\n",
       "</table>\n",
       "</div>"
      ],
      "text/plain": [
       "              idade   hipertensao  doenca_coracao  media_nivel_glicose  \\\n",
       "count  43400.000000  43400.000000    43400.000000         43400.000000   \n",
       "mean      42.217894      0.093571        0.047512           104.482750   \n",
       "std       22.519649      0.291235        0.212733            43.111751   \n",
       "min        0.080000      0.000000        0.000000            55.000000   \n",
       "25%       24.000000      0.000000        0.000000            77.540000   \n",
       "50%       44.000000      0.000000        0.000000            91.580000   \n",
       "75%       60.000000      0.000000        0.000000           112.070000   \n",
       "max       82.000000      1.000000        1.000000           291.050000   \n",
       "\n",
       "                imc           avc  \n",
       "count  43400.000000  43400.000000  \n",
       "mean      28.605038      0.018041  \n",
       "std        7.638023      0.133103  \n",
       "min       10.100000      0.000000  \n",
       "25%       23.400000      0.000000  \n",
       "50%       28.100000      0.000000  \n",
       "75%       32.600000      0.000000  \n",
       "max       97.600000      1.000000  "
      ]
     },
     "execution_count": 25,
     "metadata": {},
     "output_type": "execute_result"
    }
   ],
   "source": [
    "df[df_con_name].describe()"
   ]
  },
  {
   "cell_type": "code",
   "execution_count": 28,
   "metadata": {},
   "outputs": [
    {
     "data": {
      "text/plain": [
       "<matplotlib.axes._subplots.AxesSubplot at 0x1e4cf694dd8>"
      ]
     },
     "execution_count": 28,
     "metadata": {},
     "output_type": "execute_result"
    },
    {
     "data": {
      "image/png": "[encoded data removed]",
      "text/plain": [
       "<Figure size 720x432 with 1 Axes>"
      ]
     },
     "metadata": {
      "needs_background": "light"
     },
     "output_type": "display_data"
    }
   ],
   "source": [
    "# Variável media_nivel_glicose\n",
    "df['media_nivel_glicose'].plot(kind=\"box\", figsize=(10,6))"
   ]
  },
  {
   "cell_type": "code",
   "execution_count": 29,
   "metadata": {},
   "outputs": [],
   "source": [
    "# Identificar outliers\n",
    "outliers_index = np.where(df['media_nivel_glicose'] == max(df['media_nivel_glicose']))"
   ]
  },
  {
   "cell_type": "code",
   "execution_count": 30,
   "metadata": {},
   "outputs": [
    {
     "data": {
      "text/html": [
       "<div>\n",
       "<style scoped>\n",
       "    .dataframe tbody tr th:only-of-type {\n",
       "        vertical-align: middle;\n",
       "    }\n",
       "\n",
       "    .dataframe tbody tr th {\n",
       "        vertical-align: top;\n",
       "    }\n",
       "\n",
       "    .dataframe thead th {\n",
       "        text-align: right;\n",
       "    }\n",
       "</style>\n",
       "<table border=\"1\" class=\"dataframe\">\n",
       "  <thead>\n",
       "    <tr style=\"text-align: right;\">\n",
       "      <th></th>\n",
       "      <th>sexo</th>\n",
       "      <th>idade</th>\n",
       "      <th>hipertensao</th>\n",
       "      <th>doenca_coracao</th>\n",
       "      <th>tipo_trabalho</th>\n",
       "      <th>tipo_residencia</th>\n",
       "      <th>media_nivel_glicose</th>\n",
       "      <th>imc</th>\n",
       "      <th>status_tabagismo</th>\n",
       "      <th>avc</th>\n",
       "    </tr>\n",
       "  </thead>\n",
       "  <tbody>\n",
       "    <tr>\n",
       "      <th>38446</th>\n",
       "      <td>Feminino</td>\n",
       "      <td>80.0</td>\n",
       "      <td>0</td>\n",
       "      <td>0</td>\n",
       "      <td>Privado</td>\n",
       "      <td>Rural</td>\n",
       "      <td>291.05</td>\n",
       "      <td>28.7</td>\n",
       "      <td>nunca fumou</td>\n",
       "      <td>0</td>\n",
       "    </tr>\n",
       "  </tbody>\n",
       "</table>\n",
       "</div>"
      ],
      "text/plain": [
       "           sexo  idade  hipertensao  doenca_coracao tipo_trabalho  \\\n",
       "38446  Feminino   80.0            0               0       Privado   \n",
       "\n",
       "      tipo_residencia  media_nivel_glicose   imc status_tabagismo  avc  \n",
       "38446           Rural               291.05  28.7      nunca fumou    0  "
      ]
     },
     "execution_count": 30,
     "metadata": {},
     "output_type": "execute_result"
    }
   ],
   "source": [
    "df.loc[outliers_index]"
   ]
  },
  {
   "cell_type": "code",
   "execution_count": 31,
   "metadata": {},
   "outputs": [],
   "source": [
    "# Excluir outlier\n",
    "df = df.drop(outliers_index[0])"
   ]
  },
  {
   "cell_type": "code",
   "execution_count": 32,
   "metadata": {},
   "outputs": [
    {
     "data": {
      "text/plain": [
       "<matplotlib.axes._subplots.AxesSubplot at 0x1e4d09baef0>"
      ]
     },
     "execution_count": 32,
     "metadata": {},
     "output_type": "execute_result"
    },
    {
     "data": {
      "image/png": "[encoded data removed]",
      "text/plain": [
       "<Figure size 720x432 with 1 Axes>"
      ]
     },
     "metadata": {
      "needs_background": "light"
     },
     "output_type": "display_data"
    }
   ],
   "source": [
    "df['media_nivel_glicose'].plot(kind=\"box\", figsize=(10,6))"
   ]
  },
  {
   "cell_type": "code",
   "execution_count": 33,
   "metadata": {},
   "outputs": [
    {
     "data": {
      "text/plain": [
       "<matplotlib.axes._subplots.AxesSubplot at 0x1e4d0ad0a20>"
      ]
     },
     "execution_count": 33,
     "metadata": {},
     "output_type": "execute_result"
    },
    {
     "data": {
      "image/png": "[encoded data removed]",
      "text/plain": [
       "<Figure size 720x432 with 1 Axes>"
      ]
     },
     "metadata": {
      "needs_background": "light"
     },
     "output_type": "display_data"
    }
   ],
   "source": [
    "# Variável media_nivel_glicose\n",
    "df['imc'].plot(kind=\"box\", figsize=(10,6))"
   ]
  },
  {
   "cell_type": "markdown",
   "metadata": {},
   "source": [
    "O valor do IMC pode chegar ao máximo de até 54, o que também é um caso muito raro. Opção escolida é remover valores acima de 60."
   ]
  },
  {
   "cell_type": "code",
   "execution_count": 34,
   "metadata": {},
   "outputs": [],
   "source": [
    "df = df[df['imc'] < 60]"
   ]
  },
  {
   "cell_type": "code",
   "execution_count": 35,
   "metadata": {},
   "outputs": [
    {
     "name": "stdout",
     "output_type": "stream",
     "text": [
      "sexo                   43309\n",
      "idade                  43309\n",
      "hipertensao            43309\n",
      "doenca_coracao         43309\n",
      "tipo_trabalho          43309\n",
      "tipo_residencia        43309\n",
      "media_nivel_glicose    43309\n",
      "imc                    43309\n",
      "status_tabagismo       43309\n",
      "avc                    43309\n",
      "dtype: int64\n"
     ]
    },
    {
     "data": {
      "text/html": [
       "<div>\n",
       "<style scoped>\n",
       "    .dataframe tbody tr th:only-of-type {\n",
       "        vertical-align: middle;\n",
       "    }\n",
       "\n",
       "    .dataframe tbody tr th {\n",
       "        vertical-align: top;\n",
       "    }\n",
       "\n",
       "    .dataframe thead th {\n",
       "        text-align: right;\n",
       "    }\n",
       "</style>\n",
       "<table border=\"1\" class=\"dataframe\">\n",
       "  <thead>\n",
       "    <tr style=\"text-align: right;\">\n",
       "      <th></th>\n",
       "      <th>idade</th>\n",
       "      <th>hipertensao</th>\n",
       "      <th>doenca_coracao</th>\n",
       "      <th>media_nivel_glicose</th>\n",
       "      <th>imc</th>\n",
       "      <th>avc</th>\n",
       "    </tr>\n",
       "  </thead>\n",
       "  <tbody>\n",
       "    <tr>\n",
       "      <th>count</th>\n",
       "      <td>43309.000000</td>\n",
       "      <td>43309.00000</td>\n",
       "      <td>43309.000000</td>\n",
       "      <td>43309.000000</td>\n",
       "      <td>43309.000000</td>\n",
       "      <td>43309.000000</td>\n",
       "    </tr>\n",
       "    <tr>\n",
       "      <th>mean</th>\n",
       "      <td>42.213087</td>\n",
       "      <td>0.09326</td>\n",
       "      <td>0.047542</td>\n",
       "      <td>104.442117</td>\n",
       "      <td>28.526248</td>\n",
       "      <td>0.018079</td>\n",
       "    </tr>\n",
       "    <tr>\n",
       "      <th>std</th>\n",
       "      <td>22.533671</td>\n",
       "      <td>0.29080</td>\n",
       "      <td>0.212798</td>\n",
       "      <td>43.060134</td>\n",
       "      <td>7.438084</td>\n",
       "      <td>0.133240</td>\n",
       "    </tr>\n",
       "    <tr>\n",
       "      <th>min</th>\n",
       "      <td>0.080000</td>\n",
       "      <td>0.00000</td>\n",
       "      <td>0.000000</td>\n",
       "      <td>55.000000</td>\n",
       "      <td>10.100000</td>\n",
       "      <td>0.000000</td>\n",
       "    </tr>\n",
       "    <tr>\n",
       "      <th>25%</th>\n",
       "      <td>24.000000</td>\n",
       "      <td>0.00000</td>\n",
       "      <td>0.000000</td>\n",
       "      <td>77.540000</td>\n",
       "      <td>23.400000</td>\n",
       "      <td>0.000000</td>\n",
       "    </tr>\n",
       "    <tr>\n",
       "      <th>50%</th>\n",
       "      <td>44.000000</td>\n",
       "      <td>0.00000</td>\n",
       "      <td>0.000000</td>\n",
       "      <td>91.570000</td>\n",
       "      <td>28.000000</td>\n",
       "      <td>0.000000</td>\n",
       "    </tr>\n",
       "    <tr>\n",
       "      <th>75%</th>\n",
       "      <td>60.000000</td>\n",
       "      <td>0.00000</td>\n",
       "      <td>0.000000</td>\n",
       "      <td>112.030000</td>\n",
       "      <td>32.600000</td>\n",
       "      <td>0.000000</td>\n",
       "    </tr>\n",
       "    <tr>\n",
       "      <th>max</th>\n",
       "      <td>82.000000</td>\n",
       "      <td>1.00000</td>\n",
       "      <td>1.000000</td>\n",
       "      <td>281.590000</td>\n",
       "      <td>59.900000</td>\n",
       "      <td>1.000000</td>\n",
       "    </tr>\n",
       "  </tbody>\n",
       "</table>\n",
       "</div>"
      ],
      "text/plain": [
       "              idade  hipertensao  doenca_coracao  media_nivel_glicose  \\\n",
       "count  43309.000000  43309.00000    43309.000000         43309.000000   \n",
       "mean      42.213087      0.09326        0.047542           104.442117   \n",
       "std       22.533671      0.29080        0.212798            43.060134   \n",
       "min        0.080000      0.00000        0.000000            55.000000   \n",
       "25%       24.000000      0.00000        0.000000            77.540000   \n",
       "50%       44.000000      0.00000        0.000000            91.570000   \n",
       "75%       60.000000      0.00000        0.000000           112.030000   \n",
       "max       82.000000      1.00000        1.000000           281.590000   \n",
       "\n",
       "                imc           avc  \n",
       "count  43309.000000  43309.000000  \n",
       "mean      28.526248      0.018079  \n",
       "std        7.438084      0.133240  \n",
       "min       10.100000      0.000000  \n",
       "25%       23.400000      0.000000  \n",
       "50%       28.000000      0.000000  \n",
       "75%       32.600000      0.000000  \n",
       "max       59.900000      1.000000  "
      ]
     },
     "execution_count": 35,
     "metadata": {},
     "output_type": "execute_result"
    }
   ],
   "source": [
    "print(df.count())\n",
    "df.describe()"
   ]
  },
  {
   "cell_type": "markdown",
   "metadata": {},
   "source": [
    "### Converter variáveis categóricas em valores numéricos"
   ]
  },
  {
   "cell_type": "code",
   "execution_count": 36,
   "metadata": {},
   "outputs": [
    {
     "data": {
      "text/plain": [
       "array(['Masculino', 'Feminino', 'Outro'], dtype=object)"
      ]
     },
     "execution_count": 36,
     "metadata": {},
     "output_type": "execute_result"
    }
   ],
   "source": [
    "df['sexo'].unique()"
   ]
  },
  {
   "cell_type": "code",
   "execution_count": 37,
   "metadata": {},
   "outputs": [
    {
     "data": {
      "text/plain": [
       "array(['Rural', 'Urbana'], dtype=object)"
      ]
     },
     "execution_count": 37,
     "metadata": {},
     "output_type": "execute_result"
    }
   ],
   "source": [
    "df['tipo_residencia'].unique()"
   ]
  },
  {
   "cell_type": "code",
   "execution_count": 40,
   "metadata": {},
   "outputs": [],
   "source": [
    "df['sexo'] = df['sexo'].astype('category')\n",
    "df['tipo_residencia'] = df['tipo_residencia'].astype('category')\n",
    "\n",
    "df['sexo'] = df['sexo'].cat.codes\n",
    "df['tipo_residencia'] = df['tipo_residencia'].cat.codes"
   ]
  },
  {
   "cell_type": "code",
   "execution_count": 42,
   "metadata": {},
   "outputs": [],
   "source": [
    "# Converter variáveis com mais de 3 categorias\n",
    "df = pd.get_dummies(df, columns = ['tipo_trabalho','status_tabagismo'], prefix = [\"trabalho\",'tabagismo'])"
   ]
  },
  {
   "cell_type": "code",
   "execution_count": 43,
   "metadata": {},
   "outputs": [
    {
     "data": {
      "text/html": [
       "<div>\n",
       "<style scoped>\n",
       "    .dataframe tbody tr th:only-of-type {\n",
       "        vertical-align: middle;\n",
       "    }\n",
       "\n",
       "    .dataframe tbody tr th {\n",
       "        vertical-align: top;\n",
       "    }\n",
       "\n",
       "    .dataframe thead th {\n",
       "        text-align: right;\n",
       "    }\n",
       "</style>\n",
       "<table border=\"1\" class=\"dataframe\">\n",
       "  <thead>\n",
       "    <tr style=\"text-align: right;\">\n",
       "      <th></th>\n",
       "      <th>sexo</th>\n",
       "      <th>idade</th>\n",
       "      <th>hipertensao</th>\n",
       "      <th>doenca_coracao</th>\n",
       "      <th>tipo_residencia</th>\n",
       "      <th>media_nivel_glicose</th>\n",
       "      <th>imc</th>\n",
       "      <th>avc</th>\n",
       "      <th>trabalho_Autonomo</th>\n",
       "      <th>trabalho_Nunca_trabalhou</th>\n",
       "      <th>trabalho_Privado</th>\n",
       "      <th>trabalho_Servidor_Publico</th>\n",
       "      <th>trabalho_crianca</th>\n",
       "      <th>tabagismo_desconhecido</th>\n",
       "      <th>tabagismo_fuma</th>\n",
       "      <th>tabagismo_fuma eventualmente</th>\n",
       "      <th>tabagismo_nunca fumou</th>\n",
       "    </tr>\n",
       "  </thead>\n",
       "  <tbody>\n",
       "    <tr>\n",
       "      <th>0</th>\n",
       "      <td>1</td>\n",
       "      <td>3.0</td>\n",
       "      <td>0</td>\n",
       "      <td>0</td>\n",
       "      <td>0</td>\n",
       "      <td>95.12</td>\n",
       "      <td>18.0</td>\n",
       "      <td>0</td>\n",
       "      <td>0</td>\n",
       "      <td>0</td>\n",
       "      <td>0</td>\n",
       "      <td>0</td>\n",
       "      <td>1</td>\n",
       "      <td>1</td>\n",
       "      <td>0</td>\n",
       "      <td>0</td>\n",
       "      <td>0</td>\n",
       "    </tr>\n",
       "    <tr>\n",
       "      <th>1</th>\n",
       "      <td>1</td>\n",
       "      <td>58.0</td>\n",
       "      <td>1</td>\n",
       "      <td>0</td>\n",
       "      <td>1</td>\n",
       "      <td>87.96</td>\n",
       "      <td>39.2</td>\n",
       "      <td>0</td>\n",
       "      <td>0</td>\n",
       "      <td>0</td>\n",
       "      <td>1</td>\n",
       "      <td>0</td>\n",
       "      <td>0</td>\n",
       "      <td>0</td>\n",
       "      <td>0</td>\n",
       "      <td>0</td>\n",
       "      <td>1</td>\n",
       "    </tr>\n",
       "    <tr>\n",
       "      <th>2</th>\n",
       "      <td>0</td>\n",
       "      <td>8.0</td>\n",
       "      <td>0</td>\n",
       "      <td>0</td>\n",
       "      <td>1</td>\n",
       "      <td>110.89</td>\n",
       "      <td>17.6</td>\n",
       "      <td>0</td>\n",
       "      <td>0</td>\n",
       "      <td>0</td>\n",
       "      <td>1</td>\n",
       "      <td>0</td>\n",
       "      <td>0</td>\n",
       "      <td>1</td>\n",
       "      <td>0</td>\n",
       "      <td>0</td>\n",
       "      <td>0</td>\n",
       "    </tr>\n",
       "    <tr>\n",
       "      <th>3</th>\n",
       "      <td>0</td>\n",
       "      <td>70.0</td>\n",
       "      <td>0</td>\n",
       "      <td>0</td>\n",
       "      <td>0</td>\n",
       "      <td>69.04</td>\n",
       "      <td>35.9</td>\n",
       "      <td>0</td>\n",
       "      <td>0</td>\n",
       "      <td>0</td>\n",
       "      <td>1</td>\n",
       "      <td>0</td>\n",
       "      <td>0</td>\n",
       "      <td>0</td>\n",
       "      <td>0</td>\n",
       "      <td>1</td>\n",
       "      <td>0</td>\n",
       "    </tr>\n",
       "    <tr>\n",
       "      <th>4</th>\n",
       "      <td>1</td>\n",
       "      <td>14.0</td>\n",
       "      <td>0</td>\n",
       "      <td>0</td>\n",
       "      <td>0</td>\n",
       "      <td>161.28</td>\n",
       "      <td>19.1</td>\n",
       "      <td>0</td>\n",
       "      <td>0</td>\n",
       "      <td>1</td>\n",
       "      <td>0</td>\n",
       "      <td>0</td>\n",
       "      <td>0</td>\n",
       "      <td>1</td>\n",
       "      <td>0</td>\n",
       "      <td>0</td>\n",
       "      <td>0</td>\n",
       "    </tr>\n",
       "  </tbody>\n",
       "</table>\n",
       "</div>"
      ],
      "text/plain": [
       "   sexo  idade  hipertensao  doenca_coracao  tipo_residencia  \\\n",
       "0     1    3.0            0               0                0   \n",
       "1     1   58.0            1               0                1   \n",
       "2     0    8.0            0               0                1   \n",
       "3     0   70.0            0               0                0   \n",
       "4     1   14.0            0               0                0   \n",
       "\n",
       "   media_nivel_glicose   imc  avc  trabalho_Autonomo  \\\n",
       "0                95.12  18.0    0                  0   \n",
       "1                87.96  39.2    0                  0   \n",
       "2               110.89  17.6    0                  0   \n",
       "3                69.04  35.9    0                  0   \n",
       "4               161.28  19.1    0                  0   \n",
       "\n",
       "   trabalho_Nunca_trabalhou  trabalho_Privado  trabalho_Servidor_Publico  \\\n",
       "0                         0                 0                          0   \n",
       "1                         0                 1                          0   \n",
       "2                         0                 1                          0   \n",
       "3                         0                 1                          0   \n",
       "4                         1                 0                          0   \n",
       "\n",
       "   trabalho_crianca  tabagismo_desconhecido  tabagismo_fuma  \\\n",
       "0                 1                       1               0   \n",
       "1                 0                       0               0   \n",
       "2                 0                       1               0   \n",
       "3                 0                       0               0   \n",
       "4                 0                       1               0   \n",
       "\n",
       "   tabagismo_fuma eventualmente  tabagismo_nunca fumou  \n",
       "0                             0                      0  \n",
       "1                             0                      1  \n",
       "2                             0                      0  \n",
       "3                             1                      0  \n",
       "4                             0                      0  "
      ]
     },
     "execution_count": 43,
     "metadata": {},
     "output_type": "execute_result"
    }
   ],
   "source": [
    "df.head()"
   ]
  },
  {
   "cell_type": "markdown",
   "metadata": {},
   "source": [
    "# ------------------------------ Etapa 4 ------------------------------ \n",
    "## Construção do Modelo"
   ]
  },
  {
   "cell_type": "markdown",
   "metadata": {},
   "source": [
    "### Dividir dados em dados de treino e teste"
   ]
  },
  {
   "cell_type": "code",
   "execution_count": 44,
   "metadata": {},
   "outputs": [],
   "source": [
    "# Dividir dados em X e Y\n",
    "X = df.loc[:, df.columns != 'avc']\n",
    "Y = df['avc']"
   ]
  },
  {
   "cell_type": "code",
   "execution_count": 45,
   "metadata": {},
   "outputs": [],
   "source": [
    "# Parâmetros para a divisão dos dados em treino e teste\n",
    "seed = 7\n",
    "test_size = 0.33"
   ]
  },
  {
   "cell_type": "code",
   "execution_count": 47,
   "metadata": {},
   "outputs": [],
   "source": [
    "# Dividir dados em dados de treino e dados de teste\n",
    "X_treino, X_teste, y_treino, y_teste = train_test_split(X, Y, test_size = test_size, random_state = seed)"
   ]
  },
  {
   "cell_type": "code",
   "execution_count": 49,
   "metadata": {},
   "outputs": [
    {
     "name": "stdout",
     "output_type": "stream",
     "text": [
      "X Treino:  29017\n",
      "X Teste:  14292\n",
      "Y Treino:  29017\n",
      "Y Teste:  14292\n"
     ]
    }
   ],
   "source": [
    "# Dimensões das dados criados\n",
    "print(\"X Treino: \", X_treino.shape[0])\n",
    "print(\"X Teste: \", X_teste.shape[0])\n",
    "\n",
    "print(\"Y Treino: \", y_treino.shape[0])\n",
    "print(\"Y Teste: \", y_teste.shape[0])"
   ]
  },
  {
   "cell_type": "markdown",
   "metadata": {},
   "source": [
    "### Construção dos Modelos"
   ]
  },
  {
   "cell_type": "code",
   "execution_count": 78,
   "metadata": {},
   "outputs": [],
   "source": [
    "# Funções auxiliares para calcular métricas de avaliação do modelo\n",
    "\n",
    "# Gerar relatório de métricas\n",
    "def print_report(y_atual, y_pred, thresh):\n",
    "    \n",
    "    auc = roc_auc_score(y_atual, y_pred)\n",
    "    accuracy = accuracy_score(y_atual, (y_pred > thresh))\n",
    "    \n",
    "    print('AUC: %.3f' %auc)\n",
    "    print('Acurácia: %.3f' %accuracy)\n",
    "    \n",
    "    return auc,accuracy"
   ]
  },
  {
   "cell_type": "code",
   "execution_count": 79,
   "metadata": {},
   "outputs": [],
   "source": [
    "thresh=0.5"
   ]
  },
  {
   "cell_type": "markdown",
   "metadata": {},
   "source": [
    "## Modelos"
   ]
  },
  {
   "cell_type": "code",
   "execution_count": 80,
   "metadata": {},
   "outputs": [
    {
     "name": "stdout",
     "output_type": "stream",
     "text": [
      "----- Regressão Logística -----\n",
      "Treinamento\n",
      "AUC: 0.853\n",
      "Acurácia: 0.981\n",
      "\n",
      "Teste\n",
      "AUC: 0.849\n",
      "Acurácia: 0.983\n",
      "\n",
      "----- Naive Bayes -----\n",
      "Treinamento\n",
      "AUC: 0.828\n",
      "Acurácia: 0.386\n",
      "\n",
      "Teste\n",
      "AUC: 0.829\n",
      "Acurácia: 0.380\n",
      "\n",
      "----- Xtreme Gradient Boosting Classifier -----\n",
      "Treinamento\n",
      "AUC: 0.888\n",
      "Acurácia: 0.981\n",
      "\n",
      "Teste\n",
      "AUC: 0.856\n",
      "Acurácia: 0.983\n",
      "\n",
      "----- Random Forest Classifier -----\n",
      "Treinamento\n",
      "AUC: 1.000\n",
      "Acurácia: 0.996\n",
      "\n",
      "Teste\n",
      "AUC: 0.645\n",
      "Acurácia: 0.982\n"
     ]
    }
   ],
   "source": [
    "# Modelo 1 - Regressão Logística\n",
    "lr = LogisticRegression(random_state=123)\n",
    "\n",
    "model_v1 = lr.fit(X_treino, y_treino)\n",
    "\n",
    "y_treino_pred = lr.predict_proba(X_treino)[:,1]\n",
    "y_teste_pred = lr.predict_proba(X_teste)[:,1]\n",
    "\n",
    "lr_report_treino = []\n",
    "lr_report_valid = []\n",
    "print('----- Regressão Logística -----')\n",
    "print('Treinamento')\n",
    "lr_report_treino = print_report(y_treino, y_treino_pred, thresh)\n",
    "print('\\nTeste')\n",
    "lr_report_valid = print_report(y_teste, y_teste_pred, thresh)\n",
    "\n",
    "# Modelo 2 - Regressão Logística\n",
    "nb = GaussianNB()\n",
    "\n",
    "model_v2 = nb.fit(X_treino, y_treino)\n",
    "\n",
    "y_treino_pred = nb.predict_proba(X_treino)[:,1]\n",
    "y_teste_pred = nb.predict_proba(X_teste)[:,1]\n",
    "\n",
    "nb_report_treino = []\n",
    "nb_report_valid = []\n",
    "\n",
    "print('\\n----- Naive Bayes -----')\n",
    "print('Treinamento')\n",
    "nb_report_treino = print_report(y_treino, y_treino_pred, thresh)\n",
    "print('\\nTeste')\n",
    "nb_report_valid = print_report(y_teste, y_teste_pred, thresh)\n",
    "\n",
    "\n",
    "# Modelo 3 - XGBC\n",
    "xgbc = XGBClassifier()\n",
    "\n",
    "model_v3 = xgbc.fit(X_treino, y_treino)\n",
    "\n",
    "y_treino_pred = xgbc.predict_proba(X_treino)[:,1]\n",
    "y_teste_pred = xgbc.predict_proba(X_teste)[:,1]\n",
    "\n",
    "xgbc_report_treino = []\n",
    "xgbc_report_valid = []\n",
    "\n",
    "print('\\n----- Xtreme Gradient Boosting Classifier -----')\n",
    "print('Treinamento')\n",
    "xgbc_report_treino = print_report(y_treino, y_treino_pred, thresh)\n",
    "print('\\nTeste')\n",
    "xgbc_report_valid = print_report(y_teste, y_teste_pred, thresh)\n",
    "\n",
    "# Modelo 4 - Random Forest\n",
    "rf = RandomForestClassifier()\n",
    "\n",
    "model_v4 = rf.fit(X_treino, y_treino)\n",
    "\n",
    "y_treino_pred = rf.predict_proba(X_treino)[:,1]\n",
    "y_teste_pred = rf.predict_proba(X_teste)[:,1]\n",
    "\n",
    "rf_report_treino = []\n",
    "rf_report_valid = []\n",
    "\n",
    "print('\\n----- Random Forest Classifier -----')\n",
    "print('Treinamento')\n",
    "rf_report_treino = print_report(y_treino, y_treino_pred, thresh)\n",
    "print('\\nTeste')\n",
    "rf_report_valid = print_report(y_teste, y_teste_pred, thresh)"
   ]
  },
  {
   "cell_type": "markdown",
   "metadata": {},
   "source": [
    "# ------------------------------ Etapa 5 ------------------------------ \n",
    "## Avaliação e Interpretação"
   ]
  },
  {
   "cell_type": "code",
   "execution_count": 81,
   "metadata": {},
   "outputs": [],
   "source": [
    "df_results = pd.DataFrame({\n",
    "    'classificador':['RL','RL','NB','NB','XGB','XGB','RF','RF'],\n",
    "    'data_set':['treino','validação']*4,\n",
    "    'auc': [lr_report_treino[0], lr_report_valid[0], nb_report_treino[0], nb_report_valid[0], xgbc_report_treino[0], xgbc_report_valid[0],rf_report_treino[0], rf_report_valid[0]],\n",
    "    'accuracy': [lr_report_treino[1], lr_report_valid[1], nb_report_treino[1], nb_report_valid[1], xgbc_report_treino[1], xgbc_report_valid[1],rf_report_treino[1], rf_report_valid[1]],\n",
    "    \n",
    "})"
   ]
  },
  {
   "cell_type": "markdown",
   "metadata": {},
   "source": [
    "### Comparar métrica AUC"
   ]
  },
  {
   "cell_type": "code",
   "execution_count": 86,
   "metadata": {},
   "outputs": [
    {
     "data": {
      "text/plain": [
       "<matplotlib.legend.Legend at 0x1e4d8d8a080>"
      ]
     },
     "execution_count": 86,
     "metadata": {},
     "output_type": "execute_result"
    },
    {
     "data": {
      "image/png": "[encoded data removed]",
      "text/plain": [
       "<Figure size 1152x576 with 1 Axes>"
      ]
     },
     "metadata": {},
     "output_type": "display_data"
    }
   ],
   "source": [
    "plt.figure(figsize=(16,8))\n",
    "\n",
    "ax = sns.barplot(x='classificador',y='auc',hue='data_set',data=df_results)\n",
    "ax.set_xlabel('Classificador', fontsize=15)\n",
    "ax.set_ylabel('AUC', fontsize=15)\n",
    "ax.tick_params(labelsize=15)\n",
    "\n",
    "# Legenda\n",
    "plt.legend(bbox_to_anchor = (1.05, 1), loc = 2, borderaxespad = 0., fontsize = 15)"
   ]
  },
  {
   "cell_type": "markdown",
   "metadata": {},
   "source": [
    "### Comparar métrica Acurácia"
   ]
  },
  {
   "cell_type": "code",
   "execution_count": 87,
   "metadata": {},
   "outputs": [
    {
     "data": {
      "text/plain": [
       "<matplotlib.legend.Legend at 0x1e4d8dd0748>"
      ]
     },
     "execution_count": 87,
     "metadata": {},
     "output_type": "execute_result"
    },
    {
     "data": {
      "image/png": "[encoded data removed]",
      "text/plain": [
       "<Figure size 1152x576 with 1 Axes>"
      ]
     },
     "metadata": {},
     "output_type": "display_data"
    }
   ],
   "source": [
    "plt.figure(figsize=(16,8))\n",
    "\n",
    "ax = sns.barplot(x='classificador',y='accuracy',hue='data_set',data=df_results)\n",
    "ax.set_xlabel('Classificador', fontsize=15)\n",
    "ax.set_ylabel('AUC', fontsize=15)\n",
    "ax.tick_params(labelsize=15)\n",
    "\n",
    "# Legenda\n",
    "plt.legend(bbox_to_anchor = (1.05, 1), loc = 2, borderaxespad = 0., fontsize = 15)"
   ]
  },
  {
   "cell_type": "markdown",
   "metadata": {},
   "source": [
    "### Salvar modelo escolhido"
   ]
  },
  {
   "cell_type": "code",
   "execution_count": 89,
   "metadata": {},
   "outputs": [],
   "source": [
    "#os.getcwd()"
   ]
  },
  {
   "cell_type": "code",
   "execution_count": 90,
   "metadata": {},
   "outputs": [],
   "source": [
    "path = '..\\..\\PrevendoAVC\\modelos'\n",
    "os.chdir(path)"
   ]
  },
  {
   "cell_type": "code",
   "execution_count": 92,
   "metadata": {},
   "outputs": [
    {
     "data": {
      "text/plain": [
       "RandomForestClassifier(bootstrap=True, class_weight=None, criterion='gini',\n",
       "            max_depth=None, max_features='auto', max_leaf_nodes=None,\n",
       "            min_impurity_decrease=0.0, min_impurity_split=None,\n",
       "            min_samples_leaf=1, min_samples_split=2,\n",
       "            min_weight_fraction_leaf=0.0, n_estimators=10, n_jobs=1,\n",
       "            oob_score=False, random_state=None, verbose=0,\n",
       "            warm_start=False)"
      ]
     },
     "execution_count": 92,
     "metadata": {},
     "output_type": "execute_result"
    }
   ],
   "source": [
    "model_v4"
   ]
  },
  {
   "cell_type": "code",
   "execution_count": 93,
   "metadata": {},
   "outputs": [],
   "source": [
    "# De acordo com a AUC Score, o melhor modelo é o v3\n",
    "pickle.dump(model_v4, open('best_model.pkl','wb'), protocol=4)"
   ]
  },
  {
   "cell_type": "markdown",
   "metadata": {},
   "source": [
    "### Avaliar Modelo"
   ]
  },
  {
   "cell_type": "code",
   "execution_count": 94,
   "metadata": {},
   "outputs": [],
   "source": [
    "# Carregar modelo\n",
    "best_model = pickle.load(open('best_model.pkl','rb'))"
   ]
  },
  {
   "cell_type": "code",
   "execution_count": 96,
   "metadata": {},
   "outputs": [],
   "source": [
    "# Calcular probabilidades de previsão\n",
    "y_treino_pred = best_model.predict_proba(X_treino)[:,1]\n",
    "y_teste_pred = best_model.predict_proba(X_teste)[:,1]"
   ]
  },
  {
   "cell_type": "code",
   "execution_count": 101,
   "metadata": {},
   "outputs": [
    {
     "name": "stdout",
     "output_type": "stream",
     "text": [
      "\n",
      "Treinamento:\n",
      "AUC: 1.000\n",
      "Acurácia: 0.996\n",
      "\n",
      "Teste:\n",
      "AUC: 0.645\n",
      "Acurácia: 0.982\n"
     ]
    }
   ],
   "source": [
    "# Desempenho\n",
    "thresh = 0.5\n",
    "\n",
    "print('\\nTreinamento:')\n",
    "report_treino = []\n",
    "report_treino = print_report(y_treino, y_treino_pred, thresh)\n",
    "\n",
    "\n",
    "print('\\nTeste:')\n",
    "report_teste = []\n",
    "report_teste = print_report(y_teste, y_teste_pred, thresh)"
   ]
  },
  {
   "cell_type": "code",
   "execution_count": 102,
   "metadata": {},
   "outputs": [
    {
     "data": {
      "image/png": "[encoded data removed]",
      "text/plain": [
       "<Figure size 720x576 with 1 Axes>"
      ]
     },
     "metadata": {},
     "output_type": "display_data"
    }
   ],
   "source": [
    "# Calcula a curva ROC nos dados de treino\n",
    "fpr_train, tpr_train, thresholds_train = roc_curve(y_treino, y_treino_pred)\n",
    "auc_train = roc_auc_score(y_treino, y_treino_pred)\n",
    "\n",
    "\n",
    "# Calcula a curva ROC nos dados de teste\n",
    "fpr_test, tpr_test, thresholds_test = roc_curve(y_teste, y_teste_pred)\n",
    "auc_test = roc_auc_score(y_teste, y_teste_pred)\n",
    "\n",
    "# Plot\n",
    "plt.figure(figsize=(10,8))\n",
    "plt.plot(fpr_train, tpr_train, 'r-',label ='AUC em Treino: %.3f'%auc_train)\n",
    "plt.plot(fpr_test, tpr_test, 'g-',label ='AUC em Teste: %.3f'%auc_test)\n",
    "plt.plot([0,1],[0,1],'k--')\n",
    "plt.xlabel('Taxa de Falso Positivo')\n",
    "plt.ylabel('Taxa de Verdadeiro Positivo')\n",
    "plt.legend()\n",
    "plt.show()"
   ]
  },
  {
   "cell_type": "markdown",
   "metadata": {},
   "source": [
    "# ------------------------------ Etapa 6 ------------------------------ \n",
    "## Deploy "
   ]
  },
  {
   "cell_type": "code",
   "execution_count": 103,
   "metadata": {},
   "outputs": [],
   "source": [
    "path = '..\\..\\_dados\\PrevendoAVC'\n",
    "os.chdir(path)"
   ]
  },
  {
   "cell_type": "code",
   "execution_count": 129,
   "metadata": {},
   "outputs": [],
   "source": [
    "# Carregando dados de um novo paciente\n",
    "novos_dados = pd.read_csv('dataset_avc_novos_pacientes.csv')"
   ]
  },
  {
   "cell_type": "code",
   "execution_count": 130,
   "metadata": {},
   "outputs": [
    {
     "name": "stdout",
     "output_type": "stream",
     "text": [
      "(18601, 11)\n"
     ]
    },
    {
     "data": {
      "text/html": [
       "<div>\n",
       "<style scoped>\n",
       "    .dataframe tbody tr th:only-of-type {\n",
       "        vertical-align: middle;\n",
       "    }\n",
       "\n",
       "    .dataframe tbody tr th {\n",
       "        vertical-align: top;\n",
       "    }\n",
       "\n",
       "    .dataframe thead th {\n",
       "        text-align: right;\n",
       "    }\n",
       "</style>\n",
       "<table border=\"1\" class=\"dataframe\">\n",
       "  <thead>\n",
       "    <tr style=\"text-align: right;\">\n",
       "      <th></th>\n",
       "      <th>id</th>\n",
       "      <th>sexo</th>\n",
       "      <th>idade</th>\n",
       "      <th>hipertensao</th>\n",
       "      <th>doenca_coracao</th>\n",
       "      <th>casado</th>\n",
       "      <th>tipo_trabalho</th>\n",
       "      <th>tipo_residencia</th>\n",
       "      <th>media_nivel_glicose</th>\n",
       "      <th>imc</th>\n",
       "      <th>status_tabagismo</th>\n",
       "    </tr>\n",
       "  </thead>\n",
       "  <tbody>\n",
       "    <tr>\n",
       "      <th>0</th>\n",
       "      <td>36306</td>\n",
       "      <td>Masculino</td>\n",
       "      <td>80.0</td>\n",
       "      <td>0</td>\n",
       "      <td>0</td>\n",
       "      <td>Yes</td>\n",
       "      <td>Privado</td>\n",
       "      <td>Urbano</td>\n",
       "      <td>83.84</td>\n",
       "      <td>21.1</td>\n",
       "      <td>fuma eventualmente</td>\n",
       "    </tr>\n",
       "    <tr>\n",
       "      <th>1</th>\n",
       "      <td>61829</td>\n",
       "      <td>Feminino</td>\n",
       "      <td>74.0</td>\n",
       "      <td>0</td>\n",
       "      <td>1</td>\n",
       "      <td>Yes</td>\n",
       "      <td>Autonomo</td>\n",
       "      <td>Rural</td>\n",
       "      <td>179.50</td>\n",
       "      <td>26.0</td>\n",
       "      <td>fuma eventualmente</td>\n",
       "    </tr>\n",
       "    <tr>\n",
       "      <th>2</th>\n",
       "      <td>14152</td>\n",
       "      <td>Feminino</td>\n",
       "      <td>14.0</td>\n",
       "      <td>0</td>\n",
       "      <td>0</td>\n",
       "      <td>No</td>\n",
       "      <td>crianca</td>\n",
       "      <td>Rural</td>\n",
       "      <td>95.16</td>\n",
       "      <td>21.2</td>\n",
       "      <td>NaN</td>\n",
       "    </tr>\n",
       "    <tr>\n",
       "      <th>3</th>\n",
       "      <td>12997</td>\n",
       "      <td>Masculino</td>\n",
       "      <td>28.0</td>\n",
       "      <td>0</td>\n",
       "      <td>0</td>\n",
       "      <td>No</td>\n",
       "      <td>Privado</td>\n",
       "      <td>Urbano</td>\n",
       "      <td>94.76</td>\n",
       "      <td>23.4</td>\n",
       "      <td>NaN</td>\n",
       "    </tr>\n",
       "    <tr>\n",
       "      <th>4</th>\n",
       "      <td>40801</td>\n",
       "      <td>Feminino</td>\n",
       "      <td>63.0</td>\n",
       "      <td>0</td>\n",
       "      <td>0</td>\n",
       "      <td>Yes</td>\n",
       "      <td>Servidor_Publico</td>\n",
       "      <td>Rural</td>\n",
       "      <td>83.57</td>\n",
       "      <td>27.6</td>\n",
       "      <td>nunca fumou</td>\n",
       "    </tr>\n",
       "  </tbody>\n",
       "</table>\n",
       "</div>"
      ],
      "text/plain": [
       "      id       sexo  idade  hipertensao  doenca_coracao casado  \\\n",
       "0  36306  Masculino   80.0            0               0    Yes   \n",
       "1  61829   Feminino   74.0            0               1    Yes   \n",
       "2  14152   Feminino   14.0            0               0     No   \n",
       "3  12997  Masculino   28.0            0               0     No   \n",
       "4  40801   Feminino   63.0            0               0    Yes   \n",
       "\n",
       "      tipo_trabalho tipo_residencia  media_nivel_glicose   imc  \\\n",
       "0           Privado          Urbano                83.84  21.1   \n",
       "1          Autonomo           Rural               179.50  26.0   \n",
       "2           crianca           Rural                95.16  21.2   \n",
       "3           Privado          Urbano                94.76  23.4   \n",
       "4  Servidor_Publico           Rural                83.57  27.6   \n",
       "\n",
       "     status_tabagismo  \n",
       "0  fuma eventualmente  \n",
       "1  fuma eventualmente  \n",
       "2                 NaN  \n",
       "3                 NaN  \n",
       "4         nunca fumou  "
      ]
     },
     "execution_count": 130,
     "metadata": {},
     "output_type": "execute_result"
    }
   ],
   "source": [
    "print(novos_dados.shape)\n",
    "novos_dados.head()"
   ]
  },
  {
   "cell_type": "markdown",
   "metadata": {},
   "source": [
    "### Aplicar tratamentos aos novos dados"
   ]
  },
  {
   "cell_type": "code",
   "execution_count": 131,
   "metadata": {},
   "outputs": [],
   "source": [
    "# Deletar variáveis não utilizadas\n",
    "del novos_dados['casado']\n",
    "\n",
    "# Tratar variável status_tabagismo\n",
    "novo_status_tabagismo = np.where(novos_dados['status_tabagismo'].isnull(), \n",
    "                                 \"desconhecido\", \n",
    "                                 novos_dados['status_tabagismo'])\n",
    "novos_dados['status_tabagismo'] = novo_status_tabagismo\n"
   ]
  },
  {
   "cell_type": "code",
   "execution_count": 132,
   "metadata": {},
   "outputs": [
    {
     "data": {
      "text/plain": [
       "id                     False\n",
       "sexo                   False\n",
       "idade                  False\n",
       "hipertensao            False\n",
       "doenca_coracao         False\n",
       "tipo_trabalho          False\n",
       "tipo_residencia        False\n",
       "media_nivel_glicose    False\n",
       "imc                     True\n",
       "status_tabagismo       False\n",
       "dtype: bool"
      ]
     },
     "execution_count": 132,
     "metadata": {},
     "output_type": "execute_result"
    }
   ],
   "source": [
    "# Verificar dados missing\n",
    "novos_dados.isnull().any()"
   ]
  },
  {
   "cell_type": "code",
   "execution_count": 133,
   "metadata": {},
   "outputs": [],
   "source": [
    "# Tratar dados missing da variável 'imc'\n",
    "novos_dados['imc'] = np.where(novos_dados['imc'].isnull(), \n",
    "                    novos_dados['imc'].mean(), \n",
    "                    novos_dados['imc'])"
   ]
  },
  {
   "cell_type": "code",
   "execution_count": 135,
   "metadata": {},
   "outputs": [
    {
     "data": {
      "text/plain": [
       "id                       int64\n",
       "sexo                    object\n",
       "idade                  float64\n",
       "hipertensao              int64\n",
       "doenca_coracao           int64\n",
       "tipo_trabalho           object\n",
       "tipo_residencia         object\n",
       "media_nivel_glicose    float64\n",
       "imc                    float64\n",
       "status_tabagismo        object\n",
       "dtype: object"
      ]
     },
     "execution_count": 135,
     "metadata": {},
     "output_type": "execute_result"
    }
   ],
   "source": [
    "# Tipos de dados\n",
    "novos_dados.dtypes"
   ]
  },
  {
   "cell_type": "code",
   "execution_count": 136,
   "metadata": {},
   "outputs": [],
   "source": [
    "# Tranformar variáveis categóricas\n",
    "novos_dados['sexo'] = novos_dados['sexo'].astype('category')\n",
    "novos_dados['tipo_residencia'] = novos_dados['tipo_residencia'].astype('category')\n",
    "novos_dados['sexo'] = novos_dados['sexo'].cat.codes\n",
    "novos_dados['tipo_residencia'] = novos_dados['tipo_residencia'].cat.codes\n",
    "novos_dados = pd.get_dummies(novos_dados, columns = ['tipo_trabalho','status_tabagismo'], prefix = [ \"trabalho\",'tabagismo'])"
   ]
  },
  {
   "cell_type": "code",
   "execution_count": 137,
   "metadata": {},
   "outputs": [
    {
     "data": {
      "text/plain": [
       "id                                int64\n",
       "sexo                               int8\n",
       "idade                           float64\n",
       "hipertensao                       int64\n",
       "doenca_coracao                    int64\n",
       "tipo_residencia                    int8\n",
       "media_nivel_glicose             float64\n",
       "imc                             float64\n",
       "trabalho_Autonomo                 uint8\n",
       "trabalho_Never_worked             uint8\n",
       "trabalho_Privado                  uint8\n",
       "trabalho_Servidor_Publico         uint8\n",
       "trabalho_crianca                  uint8\n",
       "tabagismo_desconhecido            uint8\n",
       "tabagismo_fuma                    uint8\n",
       "tabagismo_fuma eventualmente      uint8\n",
       "tabagismo_nunca fumou             uint8\n",
       "dtype: object"
      ]
     },
     "execution_count": 137,
     "metadata": {},
     "output_type": "execute_result"
    }
   ],
   "source": [
    "novos_dados.dtypes"
   ]
  },
  {
   "cell_type": "code",
   "execution_count": 139,
   "metadata": {},
   "outputs": [],
   "source": [
    "# Separando a coluna id para usarmos mais tarde\n",
    "X_novos_dados = novos_dados.loc[:, novos_dados.columns != 'id']\n",
    "paciente_id = novos_dados['id']"
   ]
  },
  {
   "cell_type": "markdown",
   "metadata": {},
   "source": [
    "### Prever com novos dados"
   ]
  },
  {
   "cell_type": "code",
   "execution_count": 140,
   "metadata": {},
   "outputs": [],
   "source": [
    "# Usando dados de teste para as previsões\n",
    "y_novos_dados_label = best_model.predict(X_novos_dados)\n",
    "y_novos_dados_prob = best_model.predict_proba(X_novos_dados)"
   ]
  },
  {
   "cell_type": "code",
   "execution_count": 141,
   "metadata": {},
   "outputs": [
    {
     "data": {
      "text/plain": [
       "array([0, 0, 0, ..., 0, 0, 0], dtype=int64)"
      ]
     },
     "execution_count": 141,
     "metadata": {},
     "output_type": "execute_result"
    }
   ],
   "source": [
    "y_novos_dados_label"
   ]
  },
  {
   "cell_type": "code",
   "execution_count": 142,
   "metadata": {},
   "outputs": [
    {
     "data": {
      "text/plain": [
       "array([[1. , 0. ],\n",
       "       [0.7, 0.3],\n",
       "       [1. , 0. ],\n",
       "       ...,\n",
       "       [0.9, 0.1],\n",
       "       [1. , 0. ],\n",
       "       [1. , 0. ]])"
      ]
     },
     "execution_count": 142,
     "metadata": {},
     "output_type": "execute_result"
    }
   ],
   "source": [
    "y_novos_dados_prob"
   ]
  },
  {
   "cell_type": "code",
   "execution_count": 143,
   "metadata": {},
   "outputs": [],
   "source": [
    "# Extraindo todas as previsões\n",
    "\n",
    "# Cria um vetor vazio\n",
    "y_novos_dados = [None] * len(X_novos_dados)\n",
    "\n",
    "# Looop pelas previsões e gravações no vetor de previsões\n",
    "for i in range(len(X_novos_dados)):\n",
    "    y_novos_dados[i] = y_novos_dados_prob[i]"
   ]
  },
  {
   "cell_type": "code",
   "execution_count": 144,
   "metadata": {},
   "outputs": [
    {
     "data": {
      "text/plain": [
       "[array([1., 0.]),\n",
       " array([0.7, 0.3]),\n",
       " array([1., 0.]),\n",
       " array([1., 0.]),\n",
       " array([1., 0.])]"
      ]
     },
     "execution_count": 144,
     "metadata": {},
     "output_type": "execute_result"
    }
   ],
   "source": [
    "# Vetor de previsões\n",
    "y_novos_dados[:5]"
   ]
  },
  {
   "cell_type": "code",
   "execution_count": 147,
   "metadata": {},
   "outputs": [
    {
     "name": "stdout",
     "output_type": "stream",
     "text": [
      "(18601, 2)\n"
     ]
    },
    {
     "data": {
      "text/html": [
       "<div>\n",
       "<style scoped>\n",
       "    .dataframe tbody tr th:only-of-type {\n",
       "        vertical-align: middle;\n",
       "    }\n",
       "\n",
       "    .dataframe tbody tr th {\n",
       "        vertical-align: top;\n",
       "    }\n",
       "\n",
       "    .dataframe thead th {\n",
       "        text-align: right;\n",
       "    }\n",
       "</style>\n",
       "<table border=\"1\" class=\"dataframe\">\n",
       "  <thead>\n",
       "    <tr style=\"text-align: right;\">\n",
       "      <th></th>\n",
       "      <th>id</th>\n",
       "      <th>avc</th>\n",
       "    </tr>\n",
       "  </thead>\n",
       "  <tbody>\n",
       "    <tr>\n",
       "      <th>0</th>\n",
       "      <td>36306</td>\n",
       "      <td>[1.0, 0.0]</td>\n",
       "    </tr>\n",
       "    <tr>\n",
       "      <th>1</th>\n",
       "      <td>61829</td>\n",
       "      <td>[0.7, 0.3]</td>\n",
       "    </tr>\n",
       "    <tr>\n",
       "      <th>2</th>\n",
       "      <td>14152</td>\n",
       "      <td>[1.0, 0.0]</td>\n",
       "    </tr>\n",
       "    <tr>\n",
       "      <th>3</th>\n",
       "      <td>12997</td>\n",
       "      <td>[1.0, 0.0]</td>\n",
       "    </tr>\n",
       "    <tr>\n",
       "      <th>4</th>\n",
       "      <td>40801</td>\n",
       "      <td>[1.0, 0.0]</td>\n",
       "    </tr>\n",
       "  </tbody>\n",
       "</table>\n",
       "</div>"
      ],
      "text/plain": [
       "      id         avc\n",
       "0  36306  [1.0, 0.0]\n",
       "1  61829  [0.7, 0.3]\n",
       "2  14152  [1.0, 0.0]\n",
       "3  12997  [1.0, 0.0]\n",
       "4  40801  [1.0, 0.0]"
      ]
     },
     "execution_count": 147,
     "metadata": {},
     "output_type": "execute_result"
    }
   ],
   "source": [
    "# Salvando o resultado com as previsões para cada paciente\n",
    "resultado = pd.DataFrame()\n",
    "resultado['id'] = paciente_id\n",
    "resultado['avc'] = y_novos_dados\n",
    "print(resultado.shape)\n",
    "resultado.head()\n",
    "#resultado.to_csv('dados/resultado.csv', index = False)"
   ]
  },
  {
   "cell_type": "code",
   "execution_count": null,
   "metadata": {},
   "outputs": [],
   "source": []
  }
 ],
 "metadata": {
  "kernelspec": {
   "display_name": "Python 3",
   "language": "python",
   "name": "python3"
  },
  "language_info": {
   "codemirror_mode": {
    "name": "ipython",
    "version": 3
   },
   "file_extension": ".py",
   "mimetype": "text/x-python",
   "name": "python",
   "nbconvert_exporter": "python",
   "pygments_lexer": "ipython3",
   "version": "3.7.0"
  }
 },
 "nbformat": 4,
 "nbformat_minor": 2
}
